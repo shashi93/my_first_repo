{
 "cells": [
  {
   "cell_type": "code",
   "execution_count": 3,
   "metadata": {},
   "outputs": [
    {
     "name": "stdout",
     "output_type": "stream",
     "text": [
      "[{'birthday': '15.02.1994',\n",
      "  'email': 'chathu@gmail.com',\n",
      "  'first_name': 'Chathurika',\n",
      "  'gender': 'Female',\n",
      "  'index_no': 1234,\n",
      "  'last_name': 'Perera'},\n",
      " {'birthday': '20.11.1993',\n",
      "  'email': 'gayan1@gmail.com',\n",
      "  'first_name': 'Gayan',\n",
      "  'gender': 'Male',\n",
      "  'index_no': 1245,\n",
      "  'last_name': 'Fernando'},\n",
      " {'birthday': '19.08.1993',\n",
      "  'email': 'madumali@gmail.com',\n",
      "  'first_name': 'Shanika',\n",
      "  'gender': 'Female',\n",
      "  'index_no': 1233,\n",
      "  'last_name': 'Madumali'},\n",
      " {'birthday': '26.03.1993',\n",
      "  'email': 'chaminda93@gmail.com',\n",
      "  'first_name': 'Chaminda',\n",
      "  'gender': 'Male',\n",
      "  'index_no': 1250,\n",
      "  'last_name': 'Jagoda'}]\n"
     ]
    }
   ],
   "source": [
    "import json\n",
    "from pprint import pprint\n",
    "\n",
    "with open('B.json', encoding='utf-8') as data_file:\n",
    "    data = json.loads(data_file.read())\n",
    "\n",
    "pprint(data)"
   ]
  },
  {
   "cell_type": "code",
   "execution_count": null,
   "metadata": {
    "collapsed": true
   },
   "outputs": [],
   "source": []
  }
 ],
 "metadata": {
  "kernelspec": {
   "display_name": "Python 3",
   "language": "python",
   "name": "python3"
  },
  "language_info": {
   "codemirror_mode": {
    "name": "ipython",
    "version": 3
   },
   "file_extension": ".py",
   "mimetype": "text/x-python",
   "name": "python",
   "nbconvert_exporter": "python",
   "pygments_lexer": "ipython3",
   "version": "3.6.1"
  }
 },
 "nbformat": 4,
 "nbformat_minor": 2
}
